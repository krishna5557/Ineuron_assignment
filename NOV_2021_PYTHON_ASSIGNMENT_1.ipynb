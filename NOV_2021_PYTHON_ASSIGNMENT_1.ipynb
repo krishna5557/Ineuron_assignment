{
 "cells": [
  {
   "cell_type": "markdown",
   "id": "e42de4f2",
   "metadata": {},
   "source": [
    "# PYTHON ASSIGNMENT_1"
   ]
  },
  {
   "cell_type": "raw",
   "id": "48480829",
   "metadata": {},
   "source": [
    "1 QN ANS :- 'hello' , -87.8 , 6 are values \n",
    "\n",
    "\n",
    "             * , - , / , + are operators\n",
    "             \n",
    "             \n",
    "             when sequence of operators and operands are combined it forms an expression.\n",
    "             \n",
    "           "
   ]
  },
  {
   "cell_type": "raw",
   "id": "8c57ed97",
   "metadata": {},
   "source": [
    "2 QN ANS :- STRING is a group of characters enclosed within ' or \".STRINGS can be stored in a variable\n",
    "            VARIABLES are used to store information."
   ]
  },
  {
   "cell_type": "raw",
   "id": "f101ef5a",
   "metadata": {},
   "source": [
    "3 QN ANS:- INT is a data type that stores integer values like a = 1 , b = 23 etc\n",
    "           FLOAT is a data type that stores floating values like a = 1.2 , b = 23.5 etc\n",
    "           CHAR is a data type which can store character values like a = 'a' , b = 'e' etc"
   ]
  },
  {
   "cell_type": "raw",
   "id": "53ebfb37",
   "metadata": {},
   "source": [
    "4 QN ANS:- An expression is made up of operators and operands which has certain value\n",
    "           Expression gives values after operation."
   ]
  },
  {
   "cell_type": "raw",
   "id": "88ee13d9",
   "metadata": {},
   "source": [
    "5 QN ANS:- Expression is a combination of operators and operands which returns a value\n",
    "           Statement can a line which is executable or does a particular work like printing a value or storing a value etc."
   ]
  },
  {
   "cell_type": "raw",
   "id": "0d56ec75",
   "metadata": {},
   "source": [
    "6 QN ANS:- Since after incrementing value 1 to bacon it is not stored to bacon so bacon value will be 22"
   ]
  },
  {
   "cell_type": "raw",
   "id": "cb36a339",
   "metadata": {},
   "source": [
    "7 QN ANS:- 'spqm' + 'spamspam'  = 'spamspamspam' concatination will happen\n",
    "           'spam' * 3 = 'spamspamspam' \n",
    "           "
   ]
  },
  {
   "cell_type": "raw",
   "id": "01c371fe",
   "metadata": {},
   "source": [
    "8 QN ANS:- variable name cannot start with a number value.it has to begin with a character value or underscore."
   ]
  },
  {
   "cell_type": "raw",
   "id": "b703625d",
   "metadata": {},
   "source": [
    "9 QN ANS:- for type casting or to convert a data type into another type int(), float() , str() function can be used"
   ]
  },
  {
   "cell_type": "raw",
   "id": "f128f8c9",
   "metadata": {},
   "source": [
    "10 QN ANS:- Here number 99 is not in characters so concatination will not occur because of different data type.\n",
    "            to resolve this issue changing 99 to '99' will make it possible.\n",
    "            'i have eaten' + '99' + 'burritos'"
   ]
  },
  {
   "cell_type": "code",
   "execution_count": null,
   "id": "c8b7c7c5",
   "metadata": {},
   "outputs": [],
   "source": []
  }
 ],
 "metadata": {
  "kernelspec": {
   "display_name": "Python 3 (ipykernel)",
   "language": "python",
   "name": "python3"
  },
  "language_info": {
   "codemirror_mode": {
    "name": "ipython",
    "version": 3
   },
   "file_extension": ".py",
   "mimetype": "text/x-python",
   "name": "python",
   "nbconvert_exporter": "python",
   "pygments_lexer": "ipython3",
   "version": "3.9.12"
  }
 },
 "nbformat": 4,
 "nbformat_minor": 5
}
