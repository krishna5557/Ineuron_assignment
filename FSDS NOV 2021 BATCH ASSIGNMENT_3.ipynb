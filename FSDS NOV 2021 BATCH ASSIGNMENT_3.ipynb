{
 "cells": [
  {
   "cell_type": "markdown",
   "id": "be82453d",
   "metadata": {},
   "source": [
    "# ASSIGNMENT_3 "
   ]
  },
  {
   "cell_type": "markdown",
   "id": "fb13a4e4",
   "metadata": {},
   "source": [
    "1 ANS:-Functions helps to reuse code again.it also helps readability a program"
   ]
  },
  {
   "cell_type": "markdown",
   "id": "14aa935c",
   "metadata": {},
   "source": [
    "2 ANS:-When function is called it will run."
   ]
  },
  {
   "cell_type": "markdown",
   "id": "60b64ddd",
   "metadata": {},
   "source": [
    "3 ANS:- def keyword helps to create function.\n",
    "         def function_name():\n",
    "             body\n",
    "             return keyword"
   ]
  },
  {
   "cell_type": "markdown",
   "id": "0299e8ad",
   "metadata": {},
   "source": [
    "4 ANS:- Function is a group of statements that reurn a specific value when it is called.\n",
    "        function call is the process of running or executing the statement written inside the function."
   ]
  },
  {
   "cell_type": "markdown",
   "id": "b6ba83e6",
   "metadata": {},
   "source": [
    "5 ANS:- A global variable has its scope throught the program.so only one global scope.\n",
    "        variable created inside a fucntion has its scope inside the function only so local scope is also one."
   ]
  },
  {
   "cell_type": "markdown",
   "id": "f54385f7",
   "metadata": {},
   "source": [
    "6 ANS:- It is temorarily stored in ram and after execution it is removed.\n"
   ]
  },
  {
   "cell_type": "markdown",
   "id": "2bc29957",
   "metadata": {},
   "source": [
    "7 ANS:- Return value returns the result  inside a function.\n",
    "        no"
   ]
  },
  {
   "cell_type": "markdown",
   "id": "56187ae7",
   "metadata": {},
   "source": [
    "8 ANS:- None"
   ]
  },
  {
   "cell_type": "markdown",
   "id": "3e441e23",
   "metadata": {},
   "source": [
    "9 ANS:- Using global keyword"
   ]
  },
  {
   "cell_type": "markdown",
   "id": "2a8327a1",
   "metadata": {},
   "source": [
    "10 ANS:- None type"
   ]
  },
  {
   "cell_type": "markdown",
   "id": "0294dcd0",
   "metadata": {},
   "source": [
    "11 ANS:- It imports the module areallyourpetsnamederic."
   ]
  },
  {
   "cell_type": "markdown",
   "id": "eed97adf",
   "metadata": {},
   "source": [
    "12 ANS:- Import spam\n",
    "         spam.bacon()"
   ]
  },
  {
   "cell_type": "markdown",
   "id": "fa80e8c3",
   "metadata": {},
   "source": [
    "13 ANS:- Writing the logic inside the try and except block."
   ]
  },
  {
   "cell_type": "markdown",
   "id": "81dc455a",
   "metadata": {},
   "source": [
    "14 ANS:- Try catches the error and throws to except block.\n",
    "         And whatever statement is written inside except will get executed when error is occured."
   ]
  }
 ],
 "metadata": {
  "kernelspec": {
   "display_name": "Python 3 (ipykernel)",
   "language": "python",
   "name": "python3"
  },
  "language_info": {
   "codemirror_mode": {
    "name": "ipython",
    "version": 3
   },
   "file_extension": ".py",
   "mimetype": "text/x-python",
   "name": "python",
   "nbconvert_exporter": "python",
   "pygments_lexer": "ipython3",
   "version": "3.9.12"
  }
 },
 "nbformat": 4,
 "nbformat_minor": 5
}
