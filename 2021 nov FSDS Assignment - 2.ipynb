{
 "cells": [
  {
   "cell_type": "markdown",
   "id": "0430cf19",
   "metadata": {},
   "source": [
    "# ASSIGNMENT - 2"
   ]
  },
  {
   "cell_type": "markdown",
   "id": "42f7aeca",
   "metadata": {},
   "source": [
    "1 ANS - Two values of boolean data type are True and False.\n",
    "        We can write those values like a = True and b = False"
   ]
  },
  {
   "cell_type": "markdown",
   "id": "dc9ef67e",
   "metadata": {},
   "source": [
    "2 ANS - three types of boolean operators are AND , OR NOT"
   ]
  },
  {
   "cell_type": "markdown",
   "id": "c8b88fcf",
   "metadata": {},
   "source": [
    "3 ANS -            AND\n",
    "\n",
    "           INPUT A       INPUT B   OUTPUT  \n",
    "               1              1      1  \n",
    "               1              0      0\n",
    "               0              1      0\n",
    "               0              0      0\n",
    "               \n",
    "               \n",
    "                \n",
    "                   OR\n",
    "                   \n",
    "                   \n",
    "           INPUT A       INPUT B    OUTPUT\n",
    "               1              1       0\n",
    "               1              0       1\n",
    "               0              1       1\n",
    "               0              0       0\n",
    "               \n",
    "               \n",
    "               \n",
    "               \n",
    "                   NOT\n",
    "                   \n",
    "           INPUT A       OUTPUT\n",
    "               1            0\n",
    "               0            1"
   ]
  },
  {
   "cell_type": "markdown",
   "id": "d194427f",
   "metadata": {},
   "source": [
    "4 ANS -  false,\n",
    "         false,\n",
    "         true,\n",
    "         false,\n",
    "         false,\n",
    "         true"
   ]
  },
  {
   "cell_type": "markdown",
   "id": "924a51b8",
   "metadata": {},
   "source": [
    "5 ANS - less than(<) ,\n",
    "\n",
    "        greater than(>),\n",
    "        \n",
    "        less than or equal to(<=),\n",
    "        \n",
    "        greater than or equal to(>=),\n",
    "        \n",
    "        not equal to(!=)\n",
    "        "
   ]
  },
  {
   "cell_type": "markdown",
   "id": "03bef984",
   "metadata": {},
   "source": [
    "6 ANS - Equal to(==) operator compares the two values to check if its true.Assignment operator used to assign value to a                 variable.\n",
    "         \n",
    "        a = 10  here 10 is assigned to variable a.\n",
    "        \n",
    "        if a == 10:\n",
    "            print('hello')   here checks if a is similar to 10.\n",
    "        "
   ]
  },
  {
   "cell_type": "markdown",
   "id": "89e37e27",
   "metadata": {},
   "source": [
    "7 ANS - ham\n",
    "\n",
    "        spam\n",
    "    \n",
    "        spam"
   ]
  },
  {
   "cell_type": "markdown",
   "id": "2762425d",
   "metadata": {},
   "source": [
    "8 ANS - spam = int(input('enter integer 1 or 2'))\n",
    "\n",
    "                if spam ==1:\n",
    "                \n",
    "                    print('hello')\n",
    "                    \n",
    "                elif spam == 2:\n",
    "                \n",
    "                    print('Howdy')\n",
    "                    \n",
    "                else:\n",
    "                \n",
    "                    print('Greetings!')"
   ]
  },
  {
   "cell_type": "markdown",
   "id": "01976e2f",
   "metadata": {},
   "source": [
    "9 ANS - ctrl + c"
   ]
  },
  {
   "cell_type": "markdown",
   "id": "ecfce40c",
   "metadata": {},
   "source": [
    "10 ANS - Break statement breaks the execution and comes out of the loop.\n",
    "\n",
    "         Continue statement skips the next execution and go to the loop."
   ]
  },
  {
   "cell_type": "markdown",
   "id": "a802c5d6",
   "metadata": {},
   "source": [
    "11 ANS - range(10) means from 0 to 9 excluding the the upper bound.\n",
    "\n",
    "         range(0,10) means from 0 to 9 \n",
    "         \n",
    "         range(0,10,1) from 0 to 9 - 1 here is step size\n",
    "          "
   ]
  },
  {
   "cell_type": "markdown",
   "id": "c3be85bb",
   "metadata": {},
   "source": [
    "12 ANS - for i in range(1,11):\n",
    "\n",
    "              print(i)\n",
    "              \n",
    "         i = 1     \n",
    "              \n",
    "         while i<=10:\n",
    "         \n",
    "             print(i)\n",
    "             \n",
    "             i = i+1"
   ]
  },
  {
   "cell_type": "markdown",
   "id": "be5080ee",
   "metadata": {},
   "source": [
    "13 ANS - from spam import bacon"
   ]
  },
  {
   "cell_type": "code",
   "execution_count": null,
   "id": "54cc97c3",
   "metadata": {},
   "outputs": [],
   "source": []
  }
 ],
 "metadata": {
  "kernelspec": {
   "display_name": "Python 3 (ipykernel)",
   "language": "python",
   "name": "python3"
  },
  "language_info": {
   "codemirror_mode": {
    "name": "ipython",
    "version": 3
   },
   "file_extension": ".py",
   "mimetype": "text/x-python",
   "name": "python",
   "nbconvert_exporter": "python",
   "pygments_lexer": "ipython3",
   "version": "3.9.12"
  }
 },
 "nbformat": 4,
 "nbformat_minor": 5
}
